{
  "nbformat": 4,
  "nbformat_minor": 0,
  "metadata": {
    "colab": {
      "provenance": [],
      "authorship_tag": "ABX9TyNaCHDVQmGy33UXl9K1EXiO",
      "include_colab_link": true
    },
    "kernelspec": {
      "name": "python3",
      "display_name": "Python 3"
    },
    "language_info": {
      "name": "python"
    }
  },
  "cells": [
    {
      "cell_type": "markdown",
      "metadata": {
        "id": "view-in-github",
        "colab_type": "text"
      },
      "source": [
        "<a href=\"https://colab.research.google.com/github/ANISHM2004/AI-lab-5th-sem/blob/main/1BM22CS041_Week9_ProofByResolutionAlgo.ipynb\" target=\"_parent\"><img src=\"https://colab.research.google.com/assets/colab-badge.svg\" alt=\"Open In Colab\"/></a>"
      ]
    },
    {
      "cell_type": "code",
      "execution_count": 3,
      "metadata": {
        "colab": {
          "base_uri": "https://localhost:8080/"
        },
        "id": "h0au6gySvGm-",
        "outputId": "9771e87b-0f31-4a63-c7a6-08e065e34a6d"
      },
      "outputs": [
        {
          "output_type": "stream",
          "name": "stdout",
          "text": [
            "Depth 0 - Maximizing Player (alpha=-1000, beta=1000)\n",
            "Depth 1 - Minimizing Player (alpha=-1000, beta=1000)\n",
            "Depth 2 - Maximizing Player (alpha=-1000, beta=1000)\n",
            "Depth 3 - Leaf node reached. Returning value 10 at node index 0\n",
            "Depth 2 - Maximizing Player: Best so far 10 (alpha=10)\n",
            "Depth 3 - Leaf node reached. Returning value 9 at node index 1\n",
            "Depth 2 - Maximizing Player: Best so far 10 (alpha=10)\n",
            "Depth 1 - Minimizing Player: Best so far 10 (beta=10)\n",
            "Depth 2 - Maximizing Player (alpha=-1000, beta=10)\n",
            "Depth 3 - Leaf node reached. Returning value 14 at node index 2\n",
            "Depth 2 - Maximizing Player: Best so far 14 (alpha=14)\n",
            "Depth 2 - Pruning branch (beta <= alpha) with alpha=14, beta=10\n",
            "Depth 1 - Minimizing Player: Best so far 10 (beta=10)\n",
            "Depth 0 - Maximizing Player: Best so far 10 (alpha=10)\n",
            "Depth 1 - Minimizing Player (alpha=10, beta=1000)\n",
            "Depth 2 - Maximizing Player (alpha=10, beta=1000)\n",
            "Depth 3 - Leaf node reached. Returning value 5 at node index 4\n",
            "Depth 2 - Maximizing Player: Best so far 5 (alpha=10)\n",
            "Depth 3 - Leaf node reached. Returning value 4 at node index 5\n",
            "Depth 2 - Maximizing Player: Best so far 5 (alpha=10)\n",
            "Depth 1 - Minimizing Player: Best so far 5 (beta=5)\n",
            "Depth 1 - Pruning branch (beta <= alpha) with alpha=10, beta=5\n",
            "Depth 0 - Maximizing Player: Best so far 10 (alpha=10)\n",
            "\n",
            "The optimal value is: 10\n",
            "\n",
            "Anish Maheshwari\n",
            "1BM22CS041\n"
          ]
        }
      ],
      "source": [
        "MAX, MIN = 1000, -1000\n",
        "\n",
        "def minimax(depth, nodeIndex, maximizingPlayer, values, alpha, beta):\n",
        "\n",
        "    if depth == 3:\n",
        "        print(f\"Depth {depth} - Leaf node reached. Returning value {values[nodeIndex]} at node index {nodeIndex}\")\n",
        "        return values[nodeIndex]\n",
        "\n",
        "\n",
        "    if maximizingPlayer:\n",
        "        best = MIN\n",
        "        print(f\"Depth {depth} - Maximizing Player (alpha={alpha}, beta={beta})\")\n",
        "\n",
        "        for i in range(0, 2):\n",
        "            val = minimax(depth + 1, nodeIndex * 2 + i, False, values, alpha, beta)\n",
        "            best = max(best, val)\n",
        "            alpha = max(alpha, best)\n",
        "\n",
        "\n",
        "            print(f\"Depth {depth} - Maximizing Player: Best so far {best} (alpha={alpha})\")\n",
        "\n",
        "            if beta <= alpha:\n",
        "                print(f\"Depth {depth} - Pruning branch (beta <= alpha) with alpha={alpha}, beta={beta}\")\n",
        "                break\n",
        "\n",
        "        return best\n",
        "\n",
        "\n",
        "    else:\n",
        "        best = MAX\n",
        "        print(f\"Depth {depth} - Minimizing Player (alpha={alpha}, beta={beta})\")\n",
        "\n",
        "        for i in range(0, 2):\n",
        "            val = minimax(depth + 1, nodeIndex * 2 + i, True, values, alpha, beta)\n",
        "            best = min(best, val)\n",
        "            beta = min(beta, best)\n",
        "\n",
        "\n",
        "            print(f\"Depth {depth} - Minimizing Player: Best so far {best} (beta={beta})\")\n",
        "\n",
        "            if beta <= alpha:\n",
        "                print(f\"Depth {depth} - Pruning branch (beta <= alpha) with alpha={alpha}, beta={beta}\")\n",
        "                break\n",
        "\n",
        "        return best\n",
        "\n",
        "if __name__ == \"__main__\":\n",
        "    values = [10, 9, 14, 18, 5, 4, 50, 3]\n",
        "    print(\"\\nThe optimal value is:\", minimax(0, 0, True, values, MIN, MAX))\n",
        "\n",
        "print(\"\\nAnish Maheshwari\")\n",
        "print(\"1BM22CS041\")\n"
      ]
    }
  ]
}