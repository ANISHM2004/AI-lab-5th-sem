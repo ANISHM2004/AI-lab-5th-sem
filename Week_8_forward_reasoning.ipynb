{
  "nbformat": 4,
  "nbformat_minor": 0,
  "metadata": {
    "colab": {
      "provenance": [],
      "authorship_tag": "ABX9TyOw+rRM15c4AwlMCZebW2Pt",
      "include_colab_link": true
    },
    "kernelspec": {
      "name": "python3",
      "display_name": "Python 3"
    },
    "language_info": {
      "name": "python"
    }
  },
  "cells": [
    {
      "cell_type": "markdown",
      "metadata": {
        "id": "view-in-github",
        "colab_type": "text"
      },
      "source": [
        "<a href=\"https://colab.research.google.com/github/ANISHM2004/AI-lab-5th-sem/blob/main/Week_8_forward_reasoning.ipynb\" target=\"_parent\"><img src=\"https://colab.research.google.com/assets/colab-badge.svg\" alt=\"Open In Colab\"/></a>"
      ]
    },
    {
      "cell_type": "code",
      "execution_count": 2,
      "metadata": {
        "colab": {
          "base_uri": "https://localhost:8080/"
        },
        "id": "tHGMWo7E2iQL",
        "outputId": "ab2c45b1-9c47-4e18-82ae-30286976baca"
      },
      "outputs": [
        {
          "output_type": "stream",
          "name": "stdout",
          "text": [
            "Inferred: Weapon(T1)\n",
            "Inferred: Hostile(A)\n",
            "Inferred: Sells(Robert, T1, A)\n",
            "Inferred: Criminal(Robert)\n",
            "Conclusion: Robert is a criminal.\n",
            "Anish Maheshwari\n",
            "1BM22CS041\n"
          ]
        }
      ],
      "source": [
        "class KnowledgeBase:\n",
        "    def __init__(self):\n",
        "        self.facts = set()\n",
        "        self.rules = []\n",
        "\n",
        "    def add_fact(self, fact):\n",
        "        self.facts.add(fact)\n",
        "\n",
        "    def add_rule(self, rule):\n",
        "        self.rules.append(rule)\n",
        "\n",
        "    def infer(self):\n",
        "        inferred = True\n",
        "        while inferred:\n",
        "            inferred = False\n",
        "            for rule in self.rules:\n",
        "                if rule.apply(self.facts):\n",
        "                    inferred = True\n",
        "\n",
        "\n",
        "class Rule:\n",
        "    def __init__(self, premises, conclusion):\n",
        "        self.premises = premises\n",
        "        self.conclusion = conclusion\n",
        "\n",
        "    def apply(self, facts):\n",
        "        if all(premise in facts for premise in self.premises):\n",
        "            if self.conclusion not in facts:\n",
        "                facts.add(self.conclusion)\n",
        "                print(f\"Inferred: {self.conclusion}\")\n",
        "                return True\n",
        "        return False\n",
        "\n",
        "kb = KnowledgeBase()\n",
        "\n",
        "\n",
        "kb.add_fact(\"American(Robert)\")\n",
        "kb.add_fact(\"Missile(T1)\")\n",
        "kb.add_fact(\"Owns(A, T1)\")\n",
        "kb.add_fact(\"Enemy(A, America)\")\n",
        "\n",
        "\n",
        "kb.add_rule(Rule([\"Missile(T1)\"], \"Weapon(T1)\"))\n",
        "\n",
        "\n",
        "kb.add_rule(Rule([\"Enemy(A, America)\"], \"Hostile(A)\"))\n",
        "\n",
        "\n",
        "kb.add_rule(Rule([\"Missile(T1)\", \"Owns(A, T1)\"], \"Sells(Robert, T1, A)\"))\n",
        "\n",
        "kb.add_rule(Rule([\"American(Robert)\", \"Weapon(T1)\", \"Sells(Robert, T1, A)\", \"Hostile(A)\"], \"Criminal(Robert)\"))\n",
        "\n",
        "\n",
        "kb.infer()\n",
        "\n",
        "\n",
        "if \"Criminal(Robert)\" in kb.facts:\n",
        "    print(\"Conclusion: Robert is a criminal.\")\n",
        "else:\n",
        "    print(\"Conclusion: Unable to prove Robert is a criminal.\")\n",
        "print(\"Anish Maheshwari\")\n",
        "print(\"1BM22CS041\")"
      ]
    }
  ]
}