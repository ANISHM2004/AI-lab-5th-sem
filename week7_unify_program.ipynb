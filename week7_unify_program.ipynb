{
  "nbformat": 4,
  "nbformat_minor": 0,
  "metadata": {
    "colab": {
      "provenance": [],
      "authorship_tag": "ABX9TyNLyzFbITfpYeexD3ErSZQO",
      "include_colab_link": true
    },
    "kernelspec": {
      "name": "python3",
      "display_name": "Python 3"
    },
    "language_info": {
      "name": "python"
    }
  },
  "cells": [
    {
      "cell_type": "markdown",
      "metadata": {
        "id": "view-in-github",
        "colab_type": "text"
      },
      "source": [
        "<a href=\"https://colab.research.google.com/github/ANISHM2004/AI-lab-5th-sem/blob/main/week7_unify_program.ipynb\" target=\"_parent\"><img src=\"https://colab.research.google.com/assets/colab-badge.svg\" alt=\"Open In Colab\"/></a>"
      ]
    },
    {
      "cell_type": "code",
      "source": [
        "def is_variable(term):\n",
        "    return isinstance(term, str) and term.islower()\n",
        "\n",
        "def unify(x, y, substitution={}):\n",
        "    print(f\"Unifying {x} with {y}, current substitution: {substitution}\")\n",
        "\n",
        "    if x == y:\n",
        "        print(f\"Terms are identical: {x} == {y}, no change.\")\n",
        "        return substitution\n",
        "\n",
        "    if is_variable(x):\n",
        "        print(f\"Variable '{x}' found, calling unify_var to unify with {y}.\")\n",
        "        return unify_var(x, y, substitution)\n",
        "\n",
        "    if is_variable(y):\n",
        "        print(f\"Variable '{y}' found, calling unify_var to unify with {x}.\")\n",
        "        return unify_var(y, x, substitution)\n",
        "\n",
        "    if isinstance(x, tuple) and isinstance(y, tuple):\n",
        "        print(f\"Both terms are tuples, unifying the heads: {x[0]} with {y[0]}, and the tails: {x[1:]} with {y[1:]}.\")\n",
        "        return unify(x[1:], y[1:], unify(x[0], y[0], substitution))\n",
        "\n",
        "    print(f\"Cannot unify {x} with {y}.\")\n",
        "    return None\n",
        "\n",
        "def unify_var(var, term, substitution):\n",
        "    print(f\"Unifying variable '{var}' with term {term}, current substitution: {substitution}\")\n",
        "\n",
        "    if var in substitution:\n",
        "        print(f\"Variable '{var}' already substituted with {substitution[var]}, unifying {substitution[var]} with {term}.\")\n",
        "        return unify(substitution[var], term, substitution)\n",
        "\n",
        "    if term == var:\n",
        "        print(f\"Variable '{var}' is equal to the term '{term}', no change.\")\n",
        "        return None\n",
        "\n",
        "    print(f\"Adding substitution: {var} -> {term}\")\n",
        "    substitution[var] = term\n",
        "    print(f\"Substitution updated: {substitution}\")\n",
        "    return substitution\n",
        "\n",
        "# Changed expressions\n",
        "expr1 = ('Eats', 'a', 'Banana')  # Changed 'x' to 'a', 'Apple' to 'Banana'\n",
        "expr2 = ('Eats', 'Priya', 'b')   # Changed 'Riya' to 'Priya', 'y' to 'b'\n",
        "\n",
        "# Perform unification and print steps\n",
        "substitution = unify(expr1, expr2)\n",
        "print(\"Final Substitution:\", substitution)\n",
        "print(\"Anish Maheshwari\")\n",
        "print(\"1BM22CS041\")\n",
        "\n",
        ""
      ],
      "metadata": {
        "colab": {
          "base_uri": "https://localhost:8080/"
        },
        "id": "J-ktLe6y1pLN",
        "outputId": "b4966345-4d8c-4e14-dd60-75df8a49dd4e"
      },
      "execution_count": 5,
      "outputs": [
        {
          "output_type": "stream",
          "name": "stdout",
          "text": [
            "Unifying ('Eats', 'a', 'Banana') with ('Eats', 'Priya', 'b'), current substitution: {}\n",
            "Both terms are tuples, unifying the heads: Eats with Eats, and the tails: ('a', 'Banana') with ('Priya', 'b').\n",
            "Unifying Eats with Eats, current substitution: {}\n",
            "Terms are identical: Eats == Eats, no change.\n",
            "Unifying ('a', 'Banana') with ('Priya', 'b'), current substitution: {}\n",
            "Both terms are tuples, unifying the heads: a with Priya, and the tails: ('Banana',) with ('b',).\n",
            "Unifying a with Priya, current substitution: {}\n",
            "Variable 'a' found, calling unify_var to unify with Priya.\n",
            "Unifying variable 'a' with term Priya, current substitution: {}\n",
            "Adding substitution: a -> Priya\n",
            "Substitution updated: {'a': 'Priya'}\n",
            "Unifying ('Banana',) with ('b',), current substitution: {'a': 'Priya'}\n",
            "Both terms are tuples, unifying the heads: Banana with b, and the tails: () with ().\n",
            "Unifying Banana with b, current substitution: {'a': 'Priya'}\n",
            "Variable 'b' found, calling unify_var to unify with Banana.\n",
            "Unifying variable 'b' with term Banana, current substitution: {'a': 'Priya'}\n",
            "Adding substitution: b -> Banana\n",
            "Substitution updated: {'a': 'Priya', 'b': 'Banana'}\n",
            "Unifying () with (), current substitution: {'a': 'Priya', 'b': 'Banana'}\n",
            "Terms are identical: () == (), no change.\n",
            "Final Substitution: {'a': 'Priya', 'b': 'Banana'}\n",
            "Anish Maheshwari\n",
            "1BM22CS041\n"
          ]
        }
      ]
    }
  ]
}