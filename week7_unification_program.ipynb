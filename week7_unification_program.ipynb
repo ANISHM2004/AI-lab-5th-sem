{
  "nbformat": 4,
  "nbformat_minor": 0,
  "metadata": {
    "colab": {
      "provenance": [],
      "authorship_tag": "ABX9TyOrGhiprbBt3yBEoqZdf12Z",
      "include_colab_link": true
    },
    "kernelspec": {
      "name": "python3",
      "display_name": "Python 3"
    },
    "language_info": {
      "name": "python"
    }
  },
  "cells": [
    {
      "cell_type": "markdown",
      "metadata": {
        "id": "view-in-github",
        "colab_type": "text"
      },
      "source": [
        "<a href=\"https://colab.research.google.com/github/ANISHM2004/AI-lab-5th-sem/blob/main/week7_unification_program.ipynb\" target=\"_parent\"><img src=\"https://colab.research.google.com/assets/colab-badge.svg\" alt=\"Open In Colab\"/></a>"
      ]
    },
    {
      "cell_type": "code",
      "source": [
        "def is_variable(term):\n",
        "    return isinstance(term, str) and term.islower()\n",
        "\n",
        "def unify(x, y, substitution={}):\n",
        "    print(f\"Unifying {x} with {y}, current substitution: {substitution}\")\n",
        "\n",
        "    if x == y:\n",
        "        print(f\"Terms are identical: {x} == {y}, no change.\")\n",
        "        return substitution\n",
        "\n",
        "    if is_variable(x):\n",
        "        print(f\"Variable '{x}' found, calling unify_var to unify with {y}.\")\n",
        "        return unify_var(x, y, substitution)\n",
        "\n",
        "\n",
        "    if is_variable(y):\n",
        "        print(f\"Variable '{y}' found, calling unify_var to unify with {x}.\")\n",
        "        return unify_var(y, x, substitution)\n",
        "\n",
        "\n",
        "    if isinstance(x, tuple) and isinstance(y, tuple):\n",
        "        print(f\"Both terms are tuples, unifying the heads: {x[0]} with {y[0]}, and the tails: {x[1:]} with {y[1:]}.\")\n",
        "        return unify(x[1:], y[1:], unify(x[0], y[0], substitution))\n",
        "\n",
        "\n",
        "    print(f\"Cannot unify {x} with {y}.\")\n",
        "    return None\n",
        "\n",
        "def unify_var(var, term, substitution):\n",
        "    print(f\"Unifying variable '{var}' with term {term}, current substitution: {substitution}\")\n",
        "\n",
        "\n",
        "    if var in substitution:\n",
        "        print(f\"Variable '{var}' already substituted with {substitution[var]}, unifying {substitution[var]} with {term}.\")\n",
        "        return unify(substitution[var], term, substitution)\n",
        "\n",
        "    if term == var:\n",
        "        print(f\"Variable '{var}' is equal to the term '{term}', no change.\")\n",
        "        return None\n",
        "\n",
        "\n",
        "    print(f\"Adding substitution: {var} -> {term}\")\n",
        "    substitution[var] = term\n",
        "    print(f\"Substitution updated: {substitution}\")\n",
        "    return substitution\n",
        "\n",
        "\n",
        "expr1 = ('Eats', 'x', 'Apple') # example expression\n",
        "expr2 = ('Eats', 'Riya', 'y')\n",
        "\n",
        "\n",
        "substitution = unify(expr1, expr2)\n",
        "print(\"Final Substitution:\", substitution)\n",
        "print(\"Anish Maheshwari\")\n",
        "print(\"1BM22CS041\")"
      ],
      "metadata": {
        "colab": {
          "base_uri": "https://localhost:8080/"
        },
        "id": "J-ktLe6y1pLN",
        "outputId": "c2fa8b8d-c879-485f-9d21-e1ea795b6f67"
      },
      "execution_count": 4,
      "outputs": [
        {
          "output_type": "stream",
          "name": "stdout",
          "text": [
            "Unifying ('Eats', 'x', 'Apple') with ('Eats', 'Riya', 'y'), current substitution: {}\n",
            "Both terms are tuples, unifying the heads: Eats with Eats, and the tails: ('x', 'Apple') with ('Riya', 'y').\n",
            "Unifying Eats with Eats, current substitution: {}\n",
            "Terms are identical: Eats == Eats, no change.\n",
            "Unifying ('x', 'Apple') with ('Riya', 'y'), current substitution: {}\n",
            "Both terms are tuples, unifying the heads: x with Riya, and the tails: ('Apple',) with ('y',).\n",
            "Unifying x with Riya, current substitution: {}\n",
            "Variable 'x' found, calling unify_var to unify with Riya.\n",
            "Unifying variable 'x' with term Riya, current substitution: {}\n",
            "Adding substitution: x -> Riya\n",
            "Substitution updated: {'x': 'Riya'}\n",
            "Unifying ('Apple',) with ('y',), current substitution: {'x': 'Riya'}\n",
            "Both terms are tuples, unifying the heads: Apple with y, and the tails: () with ().\n",
            "Unifying Apple with y, current substitution: {'x': 'Riya'}\n",
            "Variable 'y' found, calling unify_var to unify with Apple.\n",
            "Unifying variable 'y' with term Apple, current substitution: {'x': 'Riya'}\n",
            "Adding substitution: y -> Apple\n",
            "Substitution updated: {'x': 'Riya', 'y': 'Apple'}\n",
            "Unifying () with (), current substitution: {'x': 'Riya', 'y': 'Apple'}\n",
            "Terms are identical: () == (), no change.\n",
            "Final Substitution: {'x': 'Riya', 'y': 'Apple'}\n",
            "Anish Maheshwari\n",
            "1BM22CS041\n"
          ]
        }
      ]
    }
  ]
}